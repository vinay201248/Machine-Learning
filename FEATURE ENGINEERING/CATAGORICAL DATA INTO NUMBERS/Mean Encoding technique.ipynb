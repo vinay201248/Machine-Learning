{
 "cells": [
  {
   "cell_type": "code",
   "execution_count": 20,
   "id": "2ef79d11",
   "metadata": {},
   "outputs": [],
   "source": [
    "import numpy as np\n",
    "import pandas as pd \n",
    "import matplotlib.pyplot as plt \n",
    "import seaborn as sns "
   ]
  },
  {
   "cell_type": "code",
   "execution_count": 21,
   "id": "ce84cac3",
   "metadata": {},
   "outputs": [],
   "source": [
    "df = pd.read_csv(\"E:\\\\Feature engineering\\\\Datasets\\\\house_price.csv\" , usecols=['Neighborhood', 'Exterior1st','Exterior2nd','SalePrice'])"
   ]
  },
  {
   "cell_type": "code",
   "execution_count": 22,
   "id": "e64aed59",
   "metadata": {},
   "outputs": [
    {
     "data": {
      "text/html": [
       "<div>\n",
       "<style scoped>\n",
       "    .dataframe tbody tr th:only-of-type {\n",
       "        vertical-align: middle;\n",
       "    }\n",
       "\n",
       "    .dataframe tbody tr th {\n",
       "        vertical-align: top;\n",
       "    }\n",
       "\n",
       "    .dataframe thead th {\n",
       "        text-align: right;\n",
       "    }\n",
       "</style>\n",
       "<table border=\"1\" class=\"dataframe\">\n",
       "  <thead>\n",
       "    <tr style=\"text-align: right;\">\n",
       "      <th></th>\n",
       "      <th>Neighborhood</th>\n",
       "      <th>Exterior1st</th>\n",
       "      <th>Exterior2nd</th>\n",
       "      <th>SalePrice</th>\n",
       "    </tr>\n",
       "  </thead>\n",
       "  <tbody>\n",
       "    <tr>\n",
       "      <th>0</th>\n",
       "      <td>CollgCr</td>\n",
       "      <td>VinylSd</td>\n",
       "      <td>VinylSd</td>\n",
       "      <td>208500</td>\n",
       "    </tr>\n",
       "    <tr>\n",
       "      <th>1</th>\n",
       "      <td>Veenker</td>\n",
       "      <td>MetalSd</td>\n",
       "      <td>MetalSd</td>\n",
       "      <td>181500</td>\n",
       "    </tr>\n",
       "    <tr>\n",
       "      <th>2</th>\n",
       "      <td>CollgCr</td>\n",
       "      <td>VinylSd</td>\n",
       "      <td>VinylSd</td>\n",
       "      <td>223500</td>\n",
       "    </tr>\n",
       "    <tr>\n",
       "      <th>3</th>\n",
       "      <td>Crawfor</td>\n",
       "      <td>Wd Sdng</td>\n",
       "      <td>Wd Shng</td>\n",
       "      <td>140000</td>\n",
       "    </tr>\n",
       "    <tr>\n",
       "      <th>4</th>\n",
       "      <td>NoRidge</td>\n",
       "      <td>VinylSd</td>\n",
       "      <td>VinylSd</td>\n",
       "      <td>250000</td>\n",
       "    </tr>\n",
       "  </tbody>\n",
       "</table>\n",
       "</div>"
      ],
      "text/plain": [
       "  Neighborhood Exterior1st Exterior2nd  SalePrice\n",
       "0      CollgCr     VinylSd     VinylSd     208500\n",
       "1      Veenker     MetalSd     MetalSd     181500\n",
       "2      CollgCr     VinylSd     VinylSd     223500\n",
       "3      Crawfor     Wd Sdng     Wd Shng     140000\n",
       "4      NoRidge     VinylSd     VinylSd     250000"
      ]
     },
     "execution_count": 22,
     "metadata": {},
     "output_type": "execute_result"
    }
   ],
   "source": [
    "df.head()"
   ]
  },
  {
   "cell_type": "code",
   "execution_count": 23,
   "id": "96833d78",
   "metadata": {},
   "outputs": [],
   "source": [
    "from sklearn.model_selection import train_test_split"
   ]
  },
  {
   "cell_type": "code",
   "execution_count": 24,
   "id": "88f4a664",
   "metadata": {},
   "outputs": [],
   "source": [
    "X = df.iloc[: , :]\n",
    "y = df.iloc[: , -1]"
   ]
  },
  {
   "cell_type": "code",
   "execution_count": 25,
   "id": "c1bc0750",
   "metadata": {},
   "outputs": [],
   "source": [
    "X_train, X_test, y_train, y_test = train_test_split(X, y, test_size=0.33, random_state=42)"
   ]
  },
  {
   "cell_type": "code",
   "execution_count": 26,
   "id": "13ed01f1",
   "metadata": {},
   "outputs": [
    {
     "data": {
      "text/html": [
       "<div>\n",
       "<style scoped>\n",
       "    .dataframe tbody tr th:only-of-type {\n",
       "        vertical-align: middle;\n",
       "    }\n",
       "\n",
       "    .dataframe tbody tr th {\n",
       "        vertical-align: top;\n",
       "    }\n",
       "\n",
       "    .dataframe thead th {\n",
       "        text-align: right;\n",
       "    }\n",
       "</style>\n",
       "<table border=\"1\" class=\"dataframe\">\n",
       "  <thead>\n",
       "    <tr style=\"text-align: right;\">\n",
       "      <th></th>\n",
       "      <th>Neighborhood</th>\n",
       "      <th>Exterior1st</th>\n",
       "      <th>Exterior2nd</th>\n",
       "      <th>SalePrice</th>\n",
       "    </tr>\n",
       "  </thead>\n",
       "  <tbody>\n",
       "    <tr>\n",
       "      <th>615</th>\n",
       "      <td>NAmes</td>\n",
       "      <td>MetalSd</td>\n",
       "      <td>MetalSd</td>\n",
       "      <td>137500</td>\n",
       "    </tr>\n",
       "    <tr>\n",
       "      <th>613</th>\n",
       "      <td>Mitchel</td>\n",
       "      <td>VinylSd</td>\n",
       "      <td>VinylSd</td>\n",
       "      <td>147000</td>\n",
       "    </tr>\n",
       "    <tr>\n",
       "      <th>1303</th>\n",
       "      <td>Somerst</td>\n",
       "      <td>VinylSd</td>\n",
       "      <td>VinylSd</td>\n",
       "      <td>232000</td>\n",
       "    </tr>\n",
       "    <tr>\n",
       "      <th>486</th>\n",
       "      <td>NAmes</td>\n",
       "      <td>MetalSd</td>\n",
       "      <td>MetalSd</td>\n",
       "      <td>156000</td>\n",
       "    </tr>\n",
       "    <tr>\n",
       "      <th>561</th>\n",
       "      <td>Mitchel</td>\n",
       "      <td>HdBoard</td>\n",
       "      <td>HdBoard</td>\n",
       "      <td>170000</td>\n",
       "    </tr>\n",
       "  </tbody>\n",
       "</table>\n",
       "</div>"
      ],
      "text/plain": [
       "     Neighborhood Exterior1st Exterior2nd  SalePrice\n",
       "615         NAmes     MetalSd     MetalSd     137500\n",
       "613       Mitchel     VinylSd     VinylSd     147000\n",
       "1303      Somerst     VinylSd     VinylSd     232000\n",
       "486         NAmes     MetalSd     MetalSd     156000\n",
       "561       Mitchel     HdBoard     HdBoard     170000"
      ]
     },
     "execution_count": 26,
     "metadata": {},
     "output_type": "execute_result"
    }
   ],
   "source": [
    "X_train.head()"
   ]
  },
  {
   "cell_type": "markdown",
   "id": "30a72f93",
   "metadata": {},
   "source": [
    "### Mean encoding Just to collect the mean values "
   ]
  },
  {
   "cell_type": "code",
   "execution_count": 9,
   "id": "982e7a88",
   "metadata": {},
   "outputs": [
    {
     "name": "stdout",
     "output_type": "stream",
     "text": [
      "Neighborhood : 25  labels\n",
      "Exterior1st : 14  labels\n",
      "Exterior2nd : 16  labels\n",
      "SalePrice : 521  labels\n"
     ]
    }
   ],
   "source": [
    "for i in X_train.columns:\n",
    "    print(i , ':' , len(X_train[i].unique()) , ' labels')"
   ]
  },
  {
   "cell_type": "code",
   "execution_count": 10,
   "id": "b96e7666",
   "metadata": {},
   "outputs": [
    {
     "data": {
      "image/png": "[encoded data removed]",
      "text/plain": [
       "<Figure size 432x288 with 1 Axes>"
      ]
     },
     "metadata": {
      "needs_background": "light"
     },
     "output_type": "display_data"
    },
    {
     "data": {
      "image/png": "[encoded data removed]",
      "text/plain": [
       "<Figure size 432x288 with 1 Axes>"
      ]
     },
     "metadata": {
      "needs_background": "light"
     },
     "output_type": "display_data"
    },
    {
     "data": {
      "image/png": "[encoded data removed]",
      "text/plain": [
       "<Figure size 432x288 with 1 Axes>"
      ]
     },
     "metadata": {
      "needs_background": "light"
     },
     "output_type": "display_data"
    },
    {
     "data": {
      "image/png": "[encoded data removed]",
      "text/plain": [
       "<Figure size 432x288 with 1 Axes>"
      ]
     },
     "metadata": {
      "needs_background": "light"
     },
     "output_type": "display_data"
    }
   ],
   "source": [
    "for i in X_train.columns:\n",
    "    fig = plt.figure()\n",
    "    X_train.groupby([i])['SalePrice'].mean().plot()\n",
    "    plt.title(\"k\")\n",
    "    plt.ylabel('mean value for each category')\n",
    "    plt.show()"
   ]
  },
  {
   "cell_type": "markdown",
   "id": "002f7631",
   "metadata": {},
   "source": [
    "### Using pandas "
   ]
  },
  {
   "cell_type": "code",
   "execution_count": 12,
   "id": "f57bcb14",
   "metadata": {},
   "outputs": [
    {
     "data": {
      "text/plain": [
       "<AxesSubplot:xlabel='Neighborhood'>"
      ]
     },
     "execution_count": 12,
     "metadata": {},
     "output_type": "execute_result"
    },
    {
     "data": {
      "image/png": "[encoded data removed]",
      "text/plain": [
       "<Figure size 432x288 with 1 Axes>"
      ]
     },
     "metadata": {
      "needs_background": "light"
     },
     "output_type": "display_data"
    }
   ],
   "source": [
    "X_train.groupby(['Neighborhood'])['SalePrice'].mean().plot()"
   ]
  },
  {
   "cell_type": "code",
   "execution_count": 14,
   "id": "037fe629",
   "metadata": {},
   "outputs": [],
   "source": [
    "val = X_train.groupby(['Neighborhood'])['SalePrice'].mean().to_dict()"
   ]
  },
  {
   "cell_type": "code",
   "execution_count": 15,
   "id": "c2dfaa33",
   "metadata": {},
   "outputs": [
    {
     "data": {
      "text/plain": [
       "{'Blmngtn': 192309.6923076923,\n",
       " 'Blueste': 124000.0,\n",
       " 'BrDale': 102208.33333333333,\n",
       " 'BrkSide': 119879.48717948717,\n",
       " 'ClearCr': 225194.44444444444,\n",
       " 'CollgCr': 201224.0693069307,\n",
       " 'Crawfor': 213999.64864864864,\n",
       " 'Edwards': 130500.93333333333,\n",
       " 'Gilbert': 199134.64,\n",
       " 'IDOTRR': 103945.83333333333,\n",
       " 'MeadowV': 101890.0,\n",
       " 'Mitchel': 158516.24242424243,\n",
       " 'NAmes': 148104.59731543623,\n",
       " 'NPkVill': 147125.0,\n",
       " 'NWAmes': 189225.58823529413,\n",
       " 'NoRidge': 313633.6296296296,\n",
       " 'NridgHt': 310738.78,\n",
       " 'OldTown': 132457.9125,\n",
       " 'SWISU': 139098.85714285713,\n",
       " 'Sawyer': 138186.36363636365,\n",
       " 'SawyerW': 177444.36111111112,\n",
       " 'Somerst': 221914.11111111112,\n",
       " 'StoneBr': 301427.05263157893,\n",
       " 'Timber': 238072.7037037037,\n",
       " 'Veenker': 249687.5}"
      ]
     },
     "execution_count": 15,
     "metadata": {},
     "output_type": "execute_result"
    }
   ],
   "source": [
    "val"
   ]
  },
  {
   "cell_type": "code",
   "execution_count": 16,
   "id": "dca6b4f6",
   "metadata": {},
   "outputs": [
    {
     "name": "stderr",
     "output_type": "stream",
     "text": [
      "<ipython-input-16-525d0a8d2d65>:1: SettingWithCopyWarning: \n",
      "A value is trying to be set on a copy of a slice from a DataFrame.\n",
      "Try using .loc[row_indexer,col_indexer] = value instead\n",
      "\n",
      "See the caveats in the documentation: https://pandas.pydata.org/pandas-docs/stable/user_guide/indexing.html#returning-a-view-versus-a-copy\n",
      "  X_train['Neighborhood'] = X_train['Neighborhood'].map(val)\n",
      "<ipython-input-16-525d0a8d2d65>:2: SettingWithCopyWarning: \n",
      "A value is trying to be set on a copy of a slice from a DataFrame.\n",
      "Try using .loc[row_indexer,col_indexer] = value instead\n",
      "\n",
      "See the caveats in the documentation: https://pandas.pydata.org/pandas-docs/stable/user_guide/indexing.html#returning-a-view-versus-a-copy\n",
      "  X_test['Neighborhood'] = X_test['Neighborhood'].map(val)\n"
     ]
    }
   ],
   "source": [
    "X_train['Neighborhood'] = X_train['Neighborhood'].map(val)\n",
    "X_test['Neighborhood'] = X_test['Neighborhood'].map(val)"
   ]
  },
  {
   "cell_type": "code",
   "execution_count": 17,
   "id": "aa638818",
   "metadata": {},
   "outputs": [
    {
     "data": {
      "text/html": [
       "<div>\n",
       "<style scoped>\n",
       "    .dataframe tbody tr th:only-of-type {\n",
       "        vertical-align: middle;\n",
       "    }\n",
       "\n",
       "    .dataframe tbody tr th {\n",
       "        vertical-align: top;\n",
       "    }\n",
       "\n",
       "    .dataframe thead th {\n",
       "        text-align: right;\n",
       "    }\n",
       "</style>\n",
       "<table border=\"1\" class=\"dataframe\">\n",
       "  <thead>\n",
       "    <tr style=\"text-align: right;\">\n",
       "      <th></th>\n",
       "      <th>Neighborhood</th>\n",
       "      <th>Exterior1st</th>\n",
       "      <th>Exterior2nd</th>\n",
       "      <th>SalePrice</th>\n",
       "    </tr>\n",
       "  </thead>\n",
       "  <tbody>\n",
       "    <tr>\n",
       "      <th>615</th>\n",
       "      <td>148104.597315</td>\n",
       "      <td>MetalSd</td>\n",
       "      <td>MetalSd</td>\n",
       "      <td>137500</td>\n",
       "    </tr>\n",
       "    <tr>\n",
       "      <th>613</th>\n",
       "      <td>158516.242424</td>\n",
       "      <td>VinylSd</td>\n",
       "      <td>VinylSd</td>\n",
       "      <td>147000</td>\n",
       "    </tr>\n",
       "    <tr>\n",
       "      <th>1303</th>\n",
       "      <td>221914.111111</td>\n",
       "      <td>VinylSd</td>\n",
       "      <td>VinylSd</td>\n",
       "      <td>232000</td>\n",
       "    </tr>\n",
       "    <tr>\n",
       "      <th>486</th>\n",
       "      <td>148104.597315</td>\n",
       "      <td>MetalSd</td>\n",
       "      <td>MetalSd</td>\n",
       "      <td>156000</td>\n",
       "    </tr>\n",
       "    <tr>\n",
       "      <th>561</th>\n",
       "      <td>158516.242424</td>\n",
       "      <td>HdBoard</td>\n",
       "      <td>HdBoard</td>\n",
       "      <td>170000</td>\n",
       "    </tr>\n",
       "  </tbody>\n",
       "</table>\n",
       "</div>"
      ],
      "text/plain": [
       "       Neighborhood Exterior1st Exterior2nd  SalePrice\n",
       "615   148104.597315     MetalSd     MetalSd     137500\n",
       "613   158516.242424     VinylSd     VinylSd     147000\n",
       "1303  221914.111111     VinylSd     VinylSd     232000\n",
       "486   148104.597315     MetalSd     MetalSd     156000\n",
       "561   158516.242424     HdBoard     HdBoard     170000"
      ]
     },
     "execution_count": 17,
     "metadata": {},
     "output_type": "execute_result"
    }
   ],
   "source": [
    "X_train.head()"
   ]
  },
  {
   "cell_type": "code",
   "execution_count": 18,
   "id": "8c8bfafc",
   "metadata": {},
   "outputs": [
    {
     "data": {
      "text/plain": [
       "<AxesSubplot:xlabel='Neighborhood'>"
      ]
     },
     "execution_count": 18,
     "metadata": {},
     "output_type": "execute_result"
    },
    {
     "data": {
      "image/png": "[encoded data removed]",
      "text/plain": [
       "<Figure size 432x288 with 1 Axes>"
      ]
     },
     "metadata": {
      "needs_background": "light"
     },
     "output_type": "display_data"
    }
   ],
   "source": [
    "X_train.groupby(['Neighborhood'])['SalePrice'].mean().plot()"
   ]
  },
  {
   "cell_type": "markdown",
   "id": "a4bea929",
   "metadata": {},
   "source": [
    "### Using Feature-Engine "
   ]
  },
  {
   "cell_type": "code",
   "execution_count": 27,
   "id": "25512481",
   "metadata": {},
   "outputs": [],
   "source": [
    "from feature_engine.encoding import MeanEncoder"
   ]
  },
  {
   "cell_type": "code",
   "execution_count": 28,
   "id": "ff130cd3",
   "metadata": {},
   "outputs": [],
   "source": [
    "od = MeanEncoder(variables=['Neighborhood','Exterior1st','Exterior2nd'])"
   ]
  },
  {
   "cell_type": "code",
   "execution_count": 29,
   "id": "c9ff1549",
   "metadata": {},
   "outputs": [
    {
     "data": {
      "text/plain": [
       "MeanEncoder(variables=['Neighborhood', 'Exterior1st', 'Exterior2nd'])"
      ]
     },
     "execution_count": 29,
     "metadata": {},
     "output_type": "execute_result"
    }
   ],
   "source": [
    "od.fit(X_train,y_train)"
   ]
  },
  {
   "cell_type": "code",
   "execution_count": 30,
   "id": "79670ab2",
   "metadata": {},
   "outputs": [
    {
     "data": {
      "text/plain": [
       "{'Neighborhood': {'Blmngtn': 192309.6923076923,\n",
       "  'Blueste': 124000.0,\n",
       "  'BrDale': 102208.33333333333,\n",
       "  'BrkSide': 119879.48717948717,\n",
       "  'ClearCr': 225194.44444444444,\n",
       "  'CollgCr': 201224.0693069307,\n",
       "  'Crawfor': 213999.64864864864,\n",
       "  'Edwards': 130500.93333333333,\n",
       "  'Gilbert': 199134.64,\n",
       "  'IDOTRR': 103945.83333333333,\n",
       "  'MeadowV': 101890.0,\n",
       "  'Mitchel': 158516.24242424243,\n",
       "  'NAmes': 148104.59731543623,\n",
       "  'NPkVill': 147125.0,\n",
       "  'NWAmes': 189225.58823529413,\n",
       "  'NoRidge': 313633.6296296296,\n",
       "  'NridgHt': 310738.78,\n",
       "  'OldTown': 132457.9125,\n",
       "  'SWISU': 139098.85714285713,\n",
       "  'Sawyer': 138186.36363636365,\n",
       "  'SawyerW': 177444.36111111112,\n",
       "  'Somerst': 221914.11111111112,\n",
       "  'StoneBr': 301427.05263157893,\n",
       "  'Timber': 238072.7037037037,\n",
       "  'Veenker': 249687.5},\n",
       " 'Exterior1st': {'AsbShng': 112426.66666666667,\n",
       "  'AsphShn': 100000.0,\n",
       "  'BrkComm': 82000.0,\n",
       "  'BrkFace': 211124.24242424243,\n",
       "  'CBlock': 105000.0,\n",
       "  'CemntBd': 235642.66666666666,\n",
       "  'HdBoard': 159823.78523489932,\n",
       "  'MetalSd': 151124.32413793102,\n",
       "  'Plywood': 179982.92424242425,\n",
       "  'Stone': 230000.0,\n",
       "  'Stucco': 185793.27777777778,\n",
       "  'VinylSd': 212076.3323943662,\n",
       "  'Wd Sdng': 144906.38129496403,\n",
       "  'WdShing': 154956.66666666666},\n",
       " 'Exterior2nd': {'AsbShng': 121681.25,\n",
       "  'AsphShn': 119500.0,\n",
       "  'Brk Cmn': 136200.0,\n",
       "  'BrkFace': 242783.33333333334,\n",
       "  'CBlock': 105000.0,\n",
       "  'CmentBd': 233225.36842105264,\n",
       "  'HdBoard': 163913.09489051095,\n",
       "  'ImStucc': 134066.66666666666,\n",
       "  'MetalSd': 151140.4820143885,\n",
       "  'Other': 319000.0,\n",
       "  'Plywood': 167968.72826086957,\n",
       "  'Stone': 165666.66666666666,\n",
       "  'Stucco': 180067.38888888888,\n",
       "  'VinylSd': 213056.52449567724,\n",
       "  'Wd Sdng': 150057.68148148147,\n",
       "  'Wd Shng': 163810.3448275862}}"
      ]
     },
     "execution_count": 30,
     "metadata": {},
     "output_type": "execute_result"
    }
   ],
   "source": [
    "od.encoder_dict_"
   ]
  },
  {
   "cell_type": "code",
   "execution_count": 31,
   "id": "f5b696d1",
   "metadata": {},
   "outputs": [
    {
     "data": {
      "text/plain": [
       "['Neighborhood', 'Exterior1st', 'Exterior2nd']"
      ]
     },
     "execution_count": 31,
     "metadata": {},
     "output_type": "execute_result"
    }
   ],
   "source": [
    "od.variables_"
   ]
  },
  {
   "cell_type": "code",
   "execution_count": 32,
   "id": "a449d9ed",
   "metadata": {},
   "outputs": [
    {
     "data": {
      "text/plain": [
       "4"
      ]
     },
     "execution_count": 32,
     "metadata": {},
     "output_type": "execute_result"
    }
   ],
   "source": [
    "od.n_features_in_"
   ]
  },
  {
   "cell_type": "code",
   "execution_count": 33,
   "id": "42dd1e08",
   "metadata": {},
   "outputs": [],
   "source": [
    "X_train = od.transform(X_train)"
   ]
  },
  {
   "cell_type": "code",
   "execution_count": 34,
   "id": "9bebd6c1",
   "metadata": {},
   "outputs": [
    {
     "data": {
      "text/html": [
       "<div>\n",
       "<style scoped>\n",
       "    .dataframe tbody tr th:only-of-type {\n",
       "        vertical-align: middle;\n",
       "    }\n",
       "\n",
       "    .dataframe tbody tr th {\n",
       "        vertical-align: top;\n",
       "    }\n",
       "\n",
       "    .dataframe thead th {\n",
       "        text-align: right;\n",
       "    }\n",
       "</style>\n",
       "<table border=\"1\" class=\"dataframe\">\n",
       "  <thead>\n",
       "    <tr style=\"text-align: right;\">\n",
       "      <th></th>\n",
       "      <th>Neighborhood</th>\n",
       "      <th>Exterior1st</th>\n",
       "      <th>Exterior2nd</th>\n",
       "      <th>SalePrice</th>\n",
       "    </tr>\n",
       "  </thead>\n",
       "  <tbody>\n",
       "    <tr>\n",
       "      <th>615</th>\n",
       "      <td>148104.597315</td>\n",
       "      <td>151124.324138</td>\n",
       "      <td>151140.482014</td>\n",
       "      <td>137500</td>\n",
       "    </tr>\n",
       "    <tr>\n",
       "      <th>613</th>\n",
       "      <td>158516.242424</td>\n",
       "      <td>212076.332394</td>\n",
       "      <td>213056.524496</td>\n",
       "      <td>147000</td>\n",
       "    </tr>\n",
       "    <tr>\n",
       "      <th>1303</th>\n",
       "      <td>221914.111111</td>\n",
       "      <td>212076.332394</td>\n",
       "      <td>213056.524496</td>\n",
       "      <td>232000</td>\n",
       "    </tr>\n",
       "    <tr>\n",
       "      <th>486</th>\n",
       "      <td>148104.597315</td>\n",
       "      <td>151124.324138</td>\n",
       "      <td>151140.482014</td>\n",
       "      <td>156000</td>\n",
       "    </tr>\n",
       "    <tr>\n",
       "      <th>561</th>\n",
       "      <td>158516.242424</td>\n",
       "      <td>159823.785235</td>\n",
       "      <td>163913.094891</td>\n",
       "      <td>170000</td>\n",
       "    </tr>\n",
       "  </tbody>\n",
       "</table>\n",
       "</div>"
      ],
      "text/plain": [
       "       Neighborhood    Exterior1st    Exterior2nd  SalePrice\n",
       "615   148104.597315  151124.324138  151140.482014     137500\n",
       "613   158516.242424  212076.332394  213056.524496     147000\n",
       "1303  221914.111111  212076.332394  213056.524496     232000\n",
       "486   148104.597315  151124.324138  151140.482014     156000\n",
       "561   158516.242424  159823.785235  163913.094891     170000"
      ]
     },
     "execution_count": 34,
     "metadata": {},
     "output_type": "execute_result"
    }
   ],
   "source": [
    "X_train.head()"
   ]
  },
  {
   "cell_type": "code",
   "execution_count": 35,
   "id": "25a9381a",
   "metadata": {},
   "outputs": [
    {
     "name": "stderr",
     "output_type": "stream",
     "text": [
      "C:\\Users\\korla\\anaconda3\\envs\\TF\\lib\\site-packages\\feature_engine\\encoding\\base_encoder.py:157: UserWarning: NaN values were introduced in the returned dataframe by the encoder.This means that some of the categories in the input dataframe were not present in the training set used when the fit method was called. Thus, mappings for those categories do not exist. Try using the RareLabelCategoricalEncoder to remove infrequent categories before calling this encoder.\n",
      "  warnings.warn(\n"
     ]
    }
   ],
   "source": [
    "X_test = od.transform(X_test)"
   ]
  },
  {
   "cell_type": "code",
   "execution_count": 37,
   "id": "39ad13c3",
   "metadata": {},
   "outputs": [
    {
     "data": {
      "text/html": [
       "<div>\n",
       "<style scoped>\n",
       "    .dataframe tbody tr th:only-of-type {\n",
       "        vertical-align: middle;\n",
       "    }\n",
       "\n",
       "    .dataframe tbody tr th {\n",
       "        vertical-align: top;\n",
       "    }\n",
       "\n",
       "    .dataframe thead th {\n",
       "        text-align: right;\n",
       "    }\n",
       "</style>\n",
       "<table border=\"1\" class=\"dataframe\">\n",
       "  <thead>\n",
       "    <tr style=\"text-align: right;\">\n",
       "      <th></th>\n",
       "      <th>Neighborhood</th>\n",
       "      <th>Exterior1st</th>\n",
       "      <th>Exterior2nd</th>\n",
       "      <th>SalePrice</th>\n",
       "    </tr>\n",
       "  </thead>\n",
       "  <tbody>\n",
       "    <tr>\n",
       "      <th>892</th>\n",
       "      <td>138186.363636</td>\n",
       "      <td>159823.785235</td>\n",
       "      <td>163913.094891</td>\n",
       "      <td>154500</td>\n",
       "    </tr>\n",
       "    <tr>\n",
       "      <th>1105</th>\n",
       "      <td>313633.629630</td>\n",
       "      <td>159823.785235</td>\n",
       "      <td>163913.094891</td>\n",
       "      <td>325000</td>\n",
       "    </tr>\n",
       "    <tr>\n",
       "      <th>413</th>\n",
       "      <td>132457.912500</td>\n",
       "      <td>154956.666667</td>\n",
       "      <td>163810.344828</td>\n",
       "      <td>115000</td>\n",
       "    </tr>\n",
       "    <tr>\n",
       "      <th>522</th>\n",
       "      <td>119879.487179</td>\n",
       "      <td>235642.666667</td>\n",
       "      <td>233225.368421</td>\n",
       "      <td>159000</td>\n",
       "    </tr>\n",
       "    <tr>\n",
       "      <th>1036</th>\n",
       "      <td>238072.703704</td>\n",
       "      <td>212076.332394</td>\n",
       "      <td>213056.524496</td>\n",
       "      <td>315500</td>\n",
       "    </tr>\n",
       "  </tbody>\n",
       "</table>\n",
       "</div>"
      ],
      "text/plain": [
       "       Neighborhood    Exterior1st    Exterior2nd  SalePrice\n",
       "892   138186.363636  159823.785235  163913.094891     154500\n",
       "1105  313633.629630  159823.785235  163913.094891     325000\n",
       "413   132457.912500  154956.666667  163810.344828     115000\n",
       "522   119879.487179  235642.666667  233225.368421     159000\n",
       "1036  238072.703704  212076.332394  213056.524496     315500"
      ]
     },
     "execution_count": 37,
     "metadata": {},
     "output_type": "execute_result"
    }
   ],
   "source": [
    "X_test.head()"
   ]
  },
  {
   "cell_type": "code",
   "execution_count": null,
   "id": "dfbb10f5",
   "metadata": {},
   "outputs": [],
   "source": []
  }
 ],
 "metadata": {
  "kernelspec": {
   "display_name": "Python 3 (ipykernel)",
   "language": "python",
   "name": "python3"
  },
  "language_info": {
   "codemirror_mode": {
    "name": "ipython",
    "version": 3
   },
   "file_extension": ".py",
   "mimetype": "text/x-python",
   "name": "python",
   "nbconvert_exporter": "python",
   "pygments_lexer": "ipython3",
   "version": "3.9.7"
  }
 },
 "nbformat": 4,
 "nbformat_minor": 5
}
